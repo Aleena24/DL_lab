{
  "nbformat": 4,
  "nbformat_minor": 0,
  "metadata": {
    "colab": {
      "provenance": [],
      "authorship_tag": "ABX9TyOU6zrpqO4LkBpnlNxbw/S9",
      "include_colab_link": true
    },
    "kernelspec": {
      "name": "python3",
      "display_name": "Python 3"
    },
    "language_info": {
      "name": "python"
    }
  },
  "cells": [
    {
      "cell_type": "markdown",
      "metadata": {
        "id": "view-in-github",
        "colab_type": "text"
      },
      "source": [
        "<a href=\"https://colab.research.google.com/github/Aleena24/DL_lab/blob/main/DL_test.ipynb\" target=\"_parent\"><img src=\"https://colab.research.google.com/assets/colab-badge.svg\" alt=\"Open In Colab\"/></a>"
      ]
    },
    {
      "cell_type": "code",
      "execution_count": 6,
      "metadata": {
        "id": "vqOVZwBlaXKz"
      },
      "outputs": [],
      "source": [
        "import pandas as pd"
      ]
    },
    {
      "cell_type": "code",
      "source": [
        "df = pd.read_csv('/content/GME_stock.csv')\n",
        "df.head()"
      ],
      "metadata": {
        "colab": {
          "base_uri": "https://localhost:8080/",
          "height": 206
        },
        "id": "aXy12LGLagd4",
        "outputId": "b9b6c390-de61-4055-941b-4ad9c2ace40e"
      },
      "execution_count": 7,
      "outputs": [
        {
          "output_type": "execute_result",
          "data": {
            "text/plain": [
              "         date  open_price  high_price   low_price  close_price       volume  \\\n",
              "0  2021-01-28  265.000000  483.000000  112.250000   193.600006   58815800.0   \n",
              "1  2021-01-27  354.829987  380.000000  249.000000   347.510010   93396700.0   \n",
              "2  2021-01-26   88.559998  150.000000   80.199997   147.979996  178588000.0   \n",
              "3  2021-01-25   96.730003  159.179993   61.130001    76.790001  177874000.0   \n",
              "4  2021-01-22   42.590000   76.760002   42.320000    65.010002  196784300.0   \n",
              "\n",
              "   adjclose_price  \n",
              "0      193.600006  \n",
              "1      347.510010  \n",
              "2      147.979996  \n",
              "3       76.790001  \n",
              "4       65.010002  "
            ],
            "text/html": [
              "\n",
              "  <div id=\"df-4d921936-1855-44a4-bdef-54cb8c65a3f1\" class=\"colab-df-container\">\n",
              "    <div>\n",
              "<style scoped>\n",
              "    .dataframe tbody tr th:only-of-type {\n",
              "        vertical-align: middle;\n",
              "    }\n",
              "\n",
              "    .dataframe tbody tr th {\n",
              "        vertical-align: top;\n",
              "    }\n",
              "\n",
              "    .dataframe thead th {\n",
              "        text-align: right;\n",
              "    }\n",
              "</style>\n",
              "<table border=\"1\" class=\"dataframe\">\n",
              "  <thead>\n",
              "    <tr style=\"text-align: right;\">\n",
              "      <th></th>\n",
              "      <th>date</th>\n",
              "      <th>open_price</th>\n",
              "      <th>high_price</th>\n",
              "      <th>low_price</th>\n",
              "      <th>close_price</th>\n",
              "      <th>volume</th>\n",
              "      <th>adjclose_price</th>\n",
              "    </tr>\n",
              "  </thead>\n",
              "  <tbody>\n",
              "    <tr>\n",
              "      <th>0</th>\n",
              "      <td>2021-01-28</td>\n",
              "      <td>265.000000</td>\n",
              "      <td>483.000000</td>\n",
              "      <td>112.250000</td>\n",
              "      <td>193.600006</td>\n",
              "      <td>58815800.0</td>\n",
              "      <td>193.600006</td>\n",
              "    </tr>\n",
              "    <tr>\n",
              "      <th>1</th>\n",
              "      <td>2021-01-27</td>\n",
              "      <td>354.829987</td>\n",
              "      <td>380.000000</td>\n",
              "      <td>249.000000</td>\n",
              "      <td>347.510010</td>\n",
              "      <td>93396700.0</td>\n",
              "      <td>347.510010</td>\n",
              "    </tr>\n",
              "    <tr>\n",
              "      <th>2</th>\n",
              "      <td>2021-01-26</td>\n",
              "      <td>88.559998</td>\n",
              "      <td>150.000000</td>\n",
              "      <td>80.199997</td>\n",
              "      <td>147.979996</td>\n",
              "      <td>178588000.0</td>\n",
              "      <td>147.979996</td>\n",
              "    </tr>\n",
              "    <tr>\n",
              "      <th>3</th>\n",
              "      <td>2021-01-25</td>\n",
              "      <td>96.730003</td>\n",
              "      <td>159.179993</td>\n",
              "      <td>61.130001</td>\n",
              "      <td>76.790001</td>\n",
              "      <td>177874000.0</td>\n",
              "      <td>76.790001</td>\n",
              "    </tr>\n",
              "    <tr>\n",
              "      <th>4</th>\n",
              "      <td>2021-01-22</td>\n",
              "      <td>42.590000</td>\n",
              "      <td>76.760002</td>\n",
              "      <td>42.320000</td>\n",
              "      <td>65.010002</td>\n",
              "      <td>196784300.0</td>\n",
              "      <td>65.010002</td>\n",
              "    </tr>\n",
              "  </tbody>\n",
              "</table>\n",
              "</div>\n",
              "    <div class=\"colab-df-buttons\">\n",
              "\n",
              "  <div class=\"colab-df-container\">\n",
              "    <button class=\"colab-df-convert\" onclick=\"convertToInteractive('df-4d921936-1855-44a4-bdef-54cb8c65a3f1')\"\n",
              "            title=\"Convert this dataframe to an interactive table.\"\n",
              "            style=\"display:none;\">\n",
              "\n",
              "  <svg xmlns=\"http://www.w3.org/2000/svg\" height=\"24px\" viewBox=\"0 -960 960 960\">\n",
              "    <path d=\"M120-120v-720h720v720H120Zm60-500h600v-160H180v160Zm220 220h160v-160H400v160Zm0 220h160v-160H400v160ZM180-400h160v-160H180v160Zm440 0h160v-160H620v160ZM180-180h160v-160H180v160Zm440 0h160v-160H620v160Z\"/>\n",
              "  </svg>\n",
              "    </button>\n",
              "\n",
              "  <style>\n",
              "    .colab-df-container {\n",
              "      display:flex;\n",
              "      gap: 12px;\n",
              "    }\n",
              "\n",
              "    .colab-df-convert {\n",
              "      background-color: #E8F0FE;\n",
              "      border: none;\n",
              "      border-radius: 50%;\n",
              "      cursor: pointer;\n",
              "      display: none;\n",
              "      fill: #1967D2;\n",
              "      height: 32px;\n",
              "      padding: 0 0 0 0;\n",
              "      width: 32px;\n",
              "    }\n",
              "\n",
              "    .colab-df-convert:hover {\n",
              "      background-color: #E2EBFA;\n",
              "      box-shadow: 0px 1px 2px rgba(60, 64, 67, 0.3), 0px 1px 3px 1px rgba(60, 64, 67, 0.15);\n",
              "      fill: #174EA6;\n",
              "    }\n",
              "\n",
              "    .colab-df-buttons div {\n",
              "      margin-bottom: 4px;\n",
              "    }\n",
              "\n",
              "    [theme=dark] .colab-df-convert {\n",
              "      background-color: #3B4455;\n",
              "      fill: #D2E3FC;\n",
              "    }\n",
              "\n",
              "    [theme=dark] .colab-df-convert:hover {\n",
              "      background-color: #434B5C;\n",
              "      box-shadow: 0px 1px 3px 1px rgba(0, 0, 0, 0.15);\n",
              "      filter: drop-shadow(0px 1px 2px rgba(0, 0, 0, 0.3));\n",
              "      fill: #FFFFFF;\n",
              "    }\n",
              "  </style>\n",
              "\n",
              "    <script>\n",
              "      const buttonEl =\n",
              "        document.querySelector('#df-4d921936-1855-44a4-bdef-54cb8c65a3f1 button.colab-df-convert');\n",
              "      buttonEl.style.display =\n",
              "        google.colab.kernel.accessAllowed ? 'block' : 'none';\n",
              "\n",
              "      async function convertToInteractive(key) {\n",
              "        const element = document.querySelector('#df-4d921936-1855-44a4-bdef-54cb8c65a3f1');\n",
              "        const dataTable =\n",
              "          await google.colab.kernel.invokeFunction('convertToInteractive',\n",
              "                                                    [key], {});\n",
              "        if (!dataTable) return;\n",
              "\n",
              "        const docLinkHtml = 'Like what you see? Visit the ' +\n",
              "          '<a target=\"_blank\" href=https://colab.research.google.com/notebooks/data_table.ipynb>data table notebook</a>'\n",
              "          + ' to learn more about interactive tables.';\n",
              "        element.innerHTML = '';\n",
              "        dataTable['output_type'] = 'display_data';\n",
              "        await google.colab.output.renderOutput(dataTable, element);\n",
              "        const docLink = document.createElement('div');\n",
              "        docLink.innerHTML = docLinkHtml;\n",
              "        element.appendChild(docLink);\n",
              "      }\n",
              "    </script>\n",
              "  </div>\n",
              "\n",
              "\n",
              "<div id=\"df-55563daa-7b08-469a-a1c2-e28f7a03691a\">\n",
              "  <button class=\"colab-df-quickchart\" onclick=\"quickchart('df-55563daa-7b08-469a-a1c2-e28f7a03691a')\"\n",
              "            title=\"Suggest charts\"\n",
              "            style=\"display:none;\">\n",
              "\n",
              "<svg xmlns=\"http://www.w3.org/2000/svg\" height=\"24px\"viewBox=\"0 0 24 24\"\n",
              "     width=\"24px\">\n",
              "    <g>\n",
              "        <path d=\"M19 3H5c-1.1 0-2 .9-2 2v14c0 1.1.9 2 2 2h14c1.1 0 2-.9 2-2V5c0-1.1-.9-2-2-2zM9 17H7v-7h2v7zm4 0h-2V7h2v10zm4 0h-2v-4h2v4z\"/>\n",
              "    </g>\n",
              "</svg>\n",
              "  </button>\n",
              "\n",
              "<style>\n",
              "  .colab-df-quickchart {\n",
              "      --bg-color: #E8F0FE;\n",
              "      --fill-color: #1967D2;\n",
              "      --hover-bg-color: #E2EBFA;\n",
              "      --hover-fill-color: #174EA6;\n",
              "      --disabled-fill-color: #AAA;\n",
              "      --disabled-bg-color: #DDD;\n",
              "  }\n",
              "\n",
              "  [theme=dark] .colab-df-quickchart {\n",
              "      --bg-color: #3B4455;\n",
              "      --fill-color: #D2E3FC;\n",
              "      --hover-bg-color: #434B5C;\n",
              "      --hover-fill-color: #FFFFFF;\n",
              "      --disabled-bg-color: #3B4455;\n",
              "      --disabled-fill-color: #666;\n",
              "  }\n",
              "\n",
              "  .colab-df-quickchart {\n",
              "    background-color: var(--bg-color);\n",
              "    border: none;\n",
              "    border-radius: 50%;\n",
              "    cursor: pointer;\n",
              "    display: none;\n",
              "    fill: var(--fill-color);\n",
              "    height: 32px;\n",
              "    padding: 0;\n",
              "    width: 32px;\n",
              "  }\n",
              "\n",
              "  .colab-df-quickchart:hover {\n",
              "    background-color: var(--hover-bg-color);\n",
              "    box-shadow: 0 1px 2px rgba(60, 64, 67, 0.3), 0 1px 3px 1px rgba(60, 64, 67, 0.15);\n",
              "    fill: var(--button-hover-fill-color);\n",
              "  }\n",
              "\n",
              "  .colab-df-quickchart-complete:disabled,\n",
              "  .colab-df-quickchart-complete:disabled:hover {\n",
              "    background-color: var(--disabled-bg-color);\n",
              "    fill: var(--disabled-fill-color);\n",
              "    box-shadow: none;\n",
              "  }\n",
              "\n",
              "  .colab-df-spinner {\n",
              "    border: 2px solid var(--fill-color);\n",
              "    border-color: transparent;\n",
              "    border-bottom-color: var(--fill-color);\n",
              "    animation:\n",
              "      spin 1s steps(1) infinite;\n",
              "  }\n",
              "\n",
              "  @keyframes spin {\n",
              "    0% {\n",
              "      border-color: transparent;\n",
              "      border-bottom-color: var(--fill-color);\n",
              "      border-left-color: var(--fill-color);\n",
              "    }\n",
              "    20% {\n",
              "      border-color: transparent;\n",
              "      border-left-color: var(--fill-color);\n",
              "      border-top-color: var(--fill-color);\n",
              "    }\n",
              "    30% {\n",
              "      border-color: transparent;\n",
              "      border-left-color: var(--fill-color);\n",
              "      border-top-color: var(--fill-color);\n",
              "      border-right-color: var(--fill-color);\n",
              "    }\n",
              "    40% {\n",
              "      border-color: transparent;\n",
              "      border-right-color: var(--fill-color);\n",
              "      border-top-color: var(--fill-color);\n",
              "    }\n",
              "    60% {\n",
              "      border-color: transparent;\n",
              "      border-right-color: var(--fill-color);\n",
              "    }\n",
              "    80% {\n",
              "      border-color: transparent;\n",
              "      border-right-color: var(--fill-color);\n",
              "      border-bottom-color: var(--fill-color);\n",
              "    }\n",
              "    90% {\n",
              "      border-color: transparent;\n",
              "      border-bottom-color: var(--fill-color);\n",
              "    }\n",
              "  }\n",
              "</style>\n",
              "\n",
              "  <script>\n",
              "    async function quickchart(key) {\n",
              "      const quickchartButtonEl =\n",
              "        document.querySelector('#' + key + ' button');\n",
              "      quickchartButtonEl.disabled = true;  // To prevent multiple clicks.\n",
              "      quickchartButtonEl.classList.add('colab-df-spinner');\n",
              "      try {\n",
              "        const charts = await google.colab.kernel.invokeFunction(\n",
              "            'suggestCharts', [key], {});\n",
              "      } catch (error) {\n",
              "        console.error('Error during call to suggestCharts:', error);\n",
              "      }\n",
              "      quickchartButtonEl.classList.remove('colab-df-spinner');\n",
              "      quickchartButtonEl.classList.add('colab-df-quickchart-complete');\n",
              "    }\n",
              "    (() => {\n",
              "      let quickchartButtonEl =\n",
              "        document.querySelector('#df-55563daa-7b08-469a-a1c2-e28f7a03691a button');\n",
              "      quickchartButtonEl.style.display =\n",
              "        google.colab.kernel.accessAllowed ? 'block' : 'none';\n",
              "    })();\n",
              "  </script>\n",
              "</div>\n",
              "\n",
              "    </div>\n",
              "  </div>\n"
            ],
            "application/vnd.google.colaboratory.intrinsic+json": {
              "type": "dataframe",
              "variable_name": "df",
              "summary": "{\n  \"name\": \"df\",\n  \"rows\": 4773,\n  \"fields\": [\n    {\n      \"column\": \"date\",\n      \"properties\": {\n        \"dtype\": \"object\",\n        \"num_unique_values\": 4773,\n        \"samples\": [\n          \"2020-12-09\",\n          \"2018-11-12\",\n          \"2002-06-11\"\n        ],\n        \"semantic_type\": \"\",\n        \"description\": \"\"\n      }\n    },\n    {\n      \"column\": \"open_price\",\n      \"properties\": {\n        \"dtype\": \"number\",\n        \"std\": 14.695884325035648,\n        \"min\": 2.8499999046325684,\n        \"max\": 354.8299865722656,\n        \"num_unique_values\": 2941,\n        \"samples\": [\n          28.600000381469727,\n          20.489999771118164,\n          21.73500061035156\n        ],\n        \"semantic_type\": \"\",\n        \"description\": \"\"\n      }\n    },\n    {\n      \"column\": \"high_price\",\n      \"properties\": {\n        \"dtype\": \"number\",\n        \"std\": 16.210218671927425,\n        \"min\": 2.940000057220459,\n        \"max\": 483.0,\n        \"num_unique_values\": 3042,\n        \"samples\": [\n          7.860000133514404,\n          8.399999618530273,\n          4.539999961853027\n        ],\n        \"semantic_type\": \"\",\n        \"description\": \"\"\n      }\n    },\n    {\n      \"column\": \"low_price\",\n      \"properties\": {\n        \"dtype\": \"number\",\n        \"std\": 13.62819387314247,\n        \"min\": 2.569999933242798,\n        \"max\": 249.0,\n        \"num_unique_values\": 3009,\n        \"samples\": [\n          22.899999618530277,\n          24.09000015258789,\n          28.440000534057617\n        ],\n        \"semantic_type\": \"\",\n        \"description\": \"\"\n      }\n    },\n    {\n      \"column\": \"close_price\",\n      \"properties\": {\n        \"dtype\": \"number\",\n        \"std\": 14.513893080940633,\n        \"min\": 2.799999952316284,\n        \"max\": 347.510009765625,\n        \"num_unique_values\": 3051,\n        \"samples\": [\n          3.319999933242798,\n          18.1299991607666,\n          18.479999542236328\n        ],\n        \"semantic_type\": \"\",\n        \"description\": \"\"\n      }\n    },\n    {\n      \"column\": \"volume\",\n      \"properties\": {\n        \"dtype\": \"number\",\n        \"std\": 6547035.274036377,\n        \"min\": 65000.0,\n        \"max\": 196784300.0,\n        \"num_unique_values\": 4533,\n        \"samples\": [\n          329800.0,\n          2773600.0,\n          2291400.0\n        ],\n        \"semantic_type\": \"\",\n        \"description\": \"\"\n      }\n    },\n    {\n      \"column\": \"adjclose_price\",\n      \"properties\": {\n        \"dtype\": \"number\",\n        \"std\": 11.019953149220536,\n        \"min\": 2.5551743507385254,\n        \"max\": 347.510009765625,\n        \"num_unique_values\": 3818,\n        \"samples\": [\n          20.74437522888184,\n          29.57697296142578,\n          14.152767181396484\n        ],\n        \"semantic_type\": \"\",\n        \"description\": \"\"\n      }\n    }\n  ]\n}"
            }
          },
          "metadata": {},
          "execution_count": 7
        }
      ]
    },
    {
      "cell_type": "markdown",
      "source": [
        "#Preprocessing techniques"
      ],
      "metadata": {
        "id": "UpMZISAGbip8"
      }
    },
    {
      "cell_type": "code",
      "source": [
        "df.columns"
      ],
      "metadata": {
        "id": "0fPSpRsjaqDI",
        "colab": {
          "base_uri": "https://localhost:8080/"
        },
        "outputId": "33fe4458-4249-47fc-c907-9cc8c5a1efb3"
      },
      "execution_count": 11,
      "outputs": [
        {
          "output_type": "execute_result",
          "data": {
            "text/plain": [
              "Index(['date', 'open_price', 'high_price', 'low_price', 'close_price',\n",
              "       'volume', 'adjclose_price'],\n",
              "      dtype='object')"
            ]
          },
          "metadata": {},
          "execution_count": 11
        }
      ]
    },
    {
      "cell_type": "markdown",
      "source": [
        "no missing values found"
      ],
      "metadata": {
        "id": "hzYa2L27bSrE"
      }
    },
    {
      "cell_type": "code",
      "source": [
        "df.isnull().sum()\n"
      ],
      "metadata": {
        "id": "8qQ7bWcOax-p",
        "colab": {
          "base_uri": "https://localhost:8080/"
        },
        "outputId": "535c7255-4759-44cb-8174-e7854f39609f"
      },
      "execution_count": 10,
      "outputs": [
        {
          "output_type": "execute_result",
          "data": {
            "text/plain": [
              "date              0\n",
              "open_price        0\n",
              "high_price        0\n",
              "low_price         0\n",
              "close_price       0\n",
              "volume            0\n",
              "adjclose_price    0\n",
              "dtype: int64"
            ]
          },
          "metadata": {},
          "execution_count": 10
        }
      ]
    },
    {
      "cell_type": "code",
      "source": [
        "from sklearn.preprocessing import StandardScaler\n",
        "\n",
        "scaler = StandardScaler()\n",
        "df[['open_price', 'volume']] = scaler.fit_transform(df[['open_price', 'volume']])\n"
      ],
      "metadata": {
        "id": "uo7N0E6RbRHO"
      },
      "execution_count": 13,
      "outputs": []
    },
    {
      "cell_type": "markdown",
      "source": [
        "# Splitting the Dataset"
      ],
      "metadata": {
        "id": "0h_VHfLjdJhK"
      }
    },
    {
      "cell_type": "code",
      "source": [
        "from sklearn.model_selection import train_test_split\n",
        "\n",
        "# Split the data into training and testing sets\n",
        "X_train, X_test, y_train, y_test = train_test_split(df.drop('close_price', axis=1), df['close_price'], test_size=0.2, random_state=42)\n"
      ],
      "metadata": {
        "id": "KCcJXaypdNpG"
      },
      "execution_count": 15,
      "outputs": []
    },
    {
      "cell_type": "markdown",
      "source": [
        "# Regularization techniques with multiple hidden layers"
      ],
      "metadata": {
        "id": "DBOX3Zqge8Uq"
      }
    },
    {
      "cell_type": "code",
      "source": [
        "import tensorflow as tf"
      ],
      "metadata": {
        "id": "b30PXwDygRKK"
      },
      "execution_count": 21,
      "outputs": []
    },
    {
      "cell_type": "markdown",
      "source": [
        "L1 reguralization technique"
      ],
      "metadata": {
        "id": "jMedyE22f6Zu"
      }
    },
    {
      "cell_type": "code",
      "source": [
        "l1_model = tf.keras.models.Sequential()\n",
        "\n",
        "l1_model.add(tf.keras.layers.Dense(units=128, activation='relu', kernel_regularizer=tf.keras.regularizers.l1(0.01), input_dim=X_train.shape[1]))\n",
        "l1_model.add(tf.keras.layers.Dropout(0.2))\n",
        "\n",
        "l1_model.add(tf.keras.layers.Dense(units=64, activation='relu', kernel_regularizer=tf.keras.regularizers.l1(0.01)))\n",
        "l1_model.add(tf.keras.layers.Dropout(0.2))\n",
        "\n",
        "l1_model.add(tf.keras.layers.Dense(units=32, activation='relu', kernel_regularizer=tf.keras.regularizers.l1(0.01)))\n",
        "l1_model.add(tf.keras.layers.Dropout(0.2))\n",
        "\n",
        "l1_model.add(tf.keras.layers.Dense(units=16, activation='relu', kernel_regularizer=tf.keras.regularizers.l1(0.01)))\n",
        "l1_model.add(tf.keras.layers.Dropout(0.2))\n",
        "\n",
        "l1_model.add(tf.keras.layers.Dense(units=1, activation='sigmoid'))\n"
      ],
      "metadata": {
        "id": "7dt9_puNf-nn"
      },
      "execution_count": 25,
      "outputs": []
    },
    {
      "cell_type": "markdown",
      "source": [
        "L2 regularization technique"
      ],
      "metadata": {
        "id": "sCxNRYWEgdUn"
      }
    },
    {
      "cell_type": "code",
      "source": [
        "l2_model = tf.keras.models.Sequential()\n",
        "\n",
        "l2_model.add(tf.keras.layers.Dense(units=128, activation='relu', kernel_regularizer=tf.keras.regularizers.l2(0.01), input_dim=X_train.shape[1]))\n",
        "l2_model.add(tf.keras.layers.Dropout(0.2))\n",
        "\n",
        "l2_model.add(tf.keras.layers.Dense(units=64, activation='relu', kernel_regularizer=tf.keras.regularizers.l2(0.01)))\n",
        "l2_model.add(tf.keras.layers.Dropout(0.2))\n",
        "\n",
        "l2_model.add(tf.keras.layers.Dense(units=32, activation='relu', kernel_regularizer=tf.keras.regularizers.l2(0.01)))\n",
        "l2_model.add(tf.keras.layers.Dropout(0.2))\n",
        "\n",
        "l2_model.add(tf.keras.layers.Dense(units=16, activation='relu', kernel_regularizer=tf.keras.regularizers.l2(0.01)))\n",
        "l2_model.add(tf.keras.layers.Dropout(0.2))\n",
        "\n",
        "l2_model.add(tf.keras.layers.Dense(units=1, activation='sigmoid'))\n"
      ],
      "metadata": {
        "id": "Wy3QYf16geWW"
      },
      "execution_count": 26,
      "outputs": []
    },
    {
      "cell_type": "markdown",
      "source": [
        "elastic net regularization"
      ],
      "metadata": {
        "id": "h5uD6AkUgsN9"
      }
    },
    {
      "cell_type": "code",
      "source": [
        "elastic_net_model = tf.keras.models.Sequential()\n",
        "\n",
        "elastic_net_model.add(tf.keras.layers.Dense(units=128, activation='relu', kernel_regularizer=tf.keras.regularizers.l1_l2(l1=0.01, l2=0.01), input_dim=X_train.shape[1]))\n",
        "elastic_net_model.add(tf.keras.layers.Dropout(0.2))\n",
        "\n",
        "elastic_net_model.add(tf.keras.layers.Dense(units=64, activation='relu', kernel_regularizer=tf.keras.regularizers.l1_l2(l1=0.01, l2=0.01)))\n",
        "elastic_net_model.add(tf.keras.layers.Dropout(0.2))\n",
        "\n",
        "elastic_net_model.add(tf.keras.layers.Dense(units=32, activation='relu', kernel_regularizer=tf.keras.regularizers.l1_l2(l1=0.01, l2=0.01)))\n",
        "elastic_net_model.add(tf.keras.layers.Dropout(0.2))\n",
        "\n",
        "elastic_net_model.add(tf.keras.layers.Dense(units=16, activation='relu', kernel_regularizer=tf.keras.regularizers.l1_l2(l1=0.01, l2=0.01)))\n",
        "elastic_net_model.add(tf.keras.layers.Dropout(0.2))\n",
        "\n",
        "elastic_net_model.add(tf.keras.layers.Dense(units=1, activation='sigmoid'))\n"
      ],
      "metadata": {
        "id": "D1aG1XbHgxuA"
      },
      "execution_count": 27,
      "outputs": []
    },
    {
      "cell_type": "markdown",
      "source": [
        "# Training the Model"
      ],
      "metadata": {
        "id": "dqQTve_ig_eZ"
      }
    },
    {
      "cell_type": "markdown",
      "source": [
        "compiling the models l1 and l2 with Adam optimizer and mean squred error loss function"
      ],
      "metadata": {
        "id": "NW1kxEqZhZW5"
      }
    },
    {
      "cell_type": "code",
      "source": [
        "l1_model.compile(optimizer='adam', loss='mean_squared_error')\n",
        "l2_model.compile(optimizer='adam', loss='mean_squared_error')\n",
        "elastic_net_model.compile(optimizer='adam', loss='mean_squared_error')\n"
      ],
      "metadata": {
        "id": "U1kQk6cFhWjK"
      },
      "execution_count": 28,
      "outputs": []
    },
    {
      "cell_type": "markdown",
      "source": [
        "training the models"
      ],
      "metadata": {
        "id": "2ShkH2arhoYq"
      }
    },
    {
      "cell_type": "code",
      "source": [
        "l1_model.fit(X_train, y_train, epochs=50, batch_size=32, validation_data=(X_test, y_test))\n",
        "l2_model.fit(X_train, y_train, epochs=50, batch_size=32, validation_data=(X_test, y_test))\n",
        "elastic_net_model.fit(X_train, y_train, epochs=50, batch_size=32, validation_data=(X_test, y_test))\n"
      ],
      "metadata": {
        "id": "9Fyd3kI5hnyi"
      },
      "execution_count": null,
      "outputs": []
    }
  ]
}