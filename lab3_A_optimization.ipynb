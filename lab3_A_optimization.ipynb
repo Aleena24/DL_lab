{
  "cells": [
    {
      "cell_type": "markdown",
      "metadata": {
        "id": "view-in-github",
        "colab_type": "text"
      },
      "source": [
        "<a href=\"https://colab.research.google.com/github/Aleena24/DL_lab/blob/main/lab3_A_optimization.ipynb\" target=\"_parent\"><img src=\"https://colab.research.google.com/assets/colab-badge.svg\" alt=\"Open In Colab\"/></a>"
      ]
    },
    {
      "cell_type": "markdown",
      "source": [
        "given revenue function\n",
        "ƒ (w) = 0.5w2-30w +100\n",
        "\n",
        "*   w = price of product\n",
        "*   0.5w2 represents the revenue generated from selling the product\n",
        "*   −30w represents the cost associated with marketing/advertising the product\n",
        "*   100 represents a constant term that could be interpreted as fixed costs or\n",
        "    other constant factors affecting revenue.\n",
        "\n",
        "\n",
        "\n"
      ],
      "metadata": {
        "id": "Q5SwJJ9RXyHA"
      }
    },
    {
      "cell_type": "markdown",
      "source": [
        "optimal price = w which minimizes the reevnue lost.\n",
        "\n",
        "revenue function = -revenue lost\n",
        "\n",
        "minimizing revenue lost = maximizing revenue\n",
        "\n",
        "optimization process uses momentum based process to adjust the price based on the gradient\n",
        "\n",
        "\n",
        "\n"
      ],
      "metadata": {
        "id": "T_djMsjibxDN"
      }
    },
    {
      "cell_type": "code",
      "source": [
        "def calculate_revenue_loss(price):\n",
        "    return 0.5 * price**2 - 30 * price + 100\n",
        "\n",
        "def calculate_gradient(price):\n",
        "    return price - 30\n",
        "\n",
        "def optimize_price(initial_price, learning_rate, momentum, num_iterations):\n",
        "    price = initial_price\n",
        "    velocity = 0\n",
        "\n",
        "    for i in range(num_iterations):\n",
        "        gradient = calculate_gradient(price)\n",
        "        velocity = momentum * velocity + learning_rate * gradient\n",
        "        price -= velocity\n",
        "\n",
        "        revenue_loss = calculate_revenue_loss(price)\n",
        "        print(f\"Iteration {i+1}: Price = {price:.2f}, Revenue Loss = {revenue_loss:.2f}\")\n",
        "\n",
        "    return price\n",
        "\n",
        "# Parameters\n",
        "initial_price = 20\n",
        "learning_rate = 0.1\n",
        "momentum = 0.9\n",
        "num_iterations = 3\n",
        "\n",
        "# Perform momentum-based optimization\n",
        "optimal_price = optimize_price(initial_price, learning_rate, momentum, num_iterations)\n",
        "print(f\"\\nOptimal Price: {optimal_price:.2f}\")\n"
      ],
      "metadata": {
        "colab": {
          "base_uri": "https://localhost:8080/"
        },
        "id": "qNYOyuSMXoAf",
        "outputId": "0c966fff-70dd-49f2-e7a0-252a7a4a62c2"
      },
      "execution_count": 22,
      "outputs": [
        {
          "output_type": "stream",
          "name": "stdout",
          "text": [
            "Iteration 1: Price = 21.00, Revenue Loss = -309.50\n",
            "Iteration 2: Price = 22.80, Revenue Loss = -324.08\n",
            "Iteration 3: Price = 25.14, Revenue Loss = -338.19\n",
            "\n",
            "Optimal Price: 25.14\n"
          ]
        }
      ]
    },
    {
      "cell_type": "markdown",
      "source": [
        "The optimal price obtained after the optimization process is 25.14\n",
        "\n",
        "This price minimizes the revenue loss associated with marketing/advertisements for the product, as determined by the optimization algorithm."
      ],
      "metadata": {
        "id": "wcZBE9n1dTFc"
      }
    }
  ],
  "metadata": {
    "colab": {
      "provenance": [],
      "authorship_tag": "ABX9TyOqjBivOGwauT11fVs6P/sS",
      "include_colab_link": true
    },
    "kernelspec": {
      "display_name": "Python 3",
      "name": "python3"
    },
    "language_info": {
      "name": "python"
    }
  },
  "nbformat": 4,
  "nbformat_minor": 0
}